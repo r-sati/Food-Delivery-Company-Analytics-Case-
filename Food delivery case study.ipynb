{
 "cells": [
  {
   "cell_type": "code",
   "execution_count": 94,
   "metadata": {},
   "outputs": [],
   "source": [
    "import pandas as pd\n",
    "import numpy as np\n",
    "import os\n",
    "from datetime import datetime, timedelta\n",
    "from dateutil.relativedelta import relativedelta\n",
    "from sklearn.preprocessing import StandardScaler\n",
    "\n"
   ]
  },
  {
   "cell_type": "code",
   "execution_count": 89,
   "metadata": {},
   "outputs": [],
   "source": [
    "def get_null_count():\n",
    "    dt_null = dt.isnull().sum().reset_index().rename(columns= {'index': 'column_name', 0: 'count_null'})\n",
    "    dt_null['total_count'] = dt.shape[0]\n",
    "    dt_null['perc_null'] = dt_null['count_null']/dt_null['total_count']\n",
    "    return dt_null\n",
    "\n",
    "def split_day_time(data, column):\n",
    "    return data[column].apply(lambda x: int(x.split(\" \")[0])), data[column].apply(lambda x: x.split(\" \")[1])\n",
    "\n",
    "\n",
    "def get_ut_datetime(data, column):\n",
    "    day_of_month = data[column].apply(lambda x: x.split(\" \")[0])\n",
    "    time_of_day = data[column].apply(lambda x: x.split(\" \")[1])\n",
    "    ut_datetime = pd.to_datetime(day_of_month + '-03' + '-2022' + ' '+ time_of_day,  format= \"%d-%m-%Y %H:%M:%S\")\n",
    "    # pst_datetime = pd.to_datetime(day_of_month + '-03' + '-2022' + ' '+ time_of_day,  format= \"%d-%m-%Y %H:%M:%S\")- timedelta(hours=8, minutes=0)\n",
    "    return ut_datetime\n",
    "\n",
    "def get_pst_datetime(data, column):\n",
    "    return pd.to_datetime(data[column],  format= \"%Y-%m-%d %H:%M:%S\")- timedelta(hours=8, minutes=0)\n"
   ]
  },
  {
   "cell_type": "code",
   "execution_count": 4,
   "metadata": {},
   "outputs": [],
   "source": [
    "dt0 = pd.read_excel('/Users/rsati/Downloads/dd.xlsx')"
   ]
  },
  {
   "cell_type": "code",
   "execution_count": 5,
   "metadata": {},
   "outputs": [
    {
     "data": {
      "text/plain": [
       "Index(['Customer_placed_order_datetime',\n",
       "       'Placed_order_with_restaurant_datetime',\n",
       "       'Driver_at_restaurant_datetime', 'Delivered_to_consumer_datetime',\n",
       "       'Driver_ID', 'Restaurant_ID', 'Consumer_ID', 'Delivery_Region',\n",
       "       'Is_ASAP', 'Order_total', 'Amount_of_discount', 'Amount_of_tip',\n",
       "       'Refunded_amount'],\n",
       "      dtype='object')"
      ]
     },
     "execution_count": 5,
     "metadata": {},
     "output_type": "execute_result"
    }
   ],
   "source": [
    "dt = dt0.copy()\n",
    "dt.columns= dt.columns.to_series().apply(lambda x: x.replace(\" \", \"_\"))\n",
    "dt.columns"
   ]
  },
  {
   "cell_type": "code",
   "execution_count": 91,
   "metadata": {},
   "outputs": [
    {
     "name": "stdout",
     "output_type": "stream",
     "text": [
      "<class 'pandas.core.frame.DataFrame'>\n",
      "RangeIndex: 18078 entries, 0 to 18077\n",
      "Data columns (total 13 columns):\n",
      " #   Column                                 Non-Null Count  Dtype  \n",
      "---  ------                                 --------------  -----  \n",
      " 0   Customer_placed_order_datetime         18078 non-null  object \n",
      " 1   Placed_order_with_restaurant_datetime  18078 non-null  object \n",
      " 2   Driver_at_restaurant_datetime          13547 non-null  object \n",
      " 3   Delivered_to_consumer_datetime         18078 non-null  object \n",
      " 4   Driver_ID                              18078 non-null  int64  \n",
      " 5   Restaurant_ID                          18078 non-null  int64  \n",
      " 6   Consumer_ID                            18078 non-null  int64  \n",
      " 7   Delivery_Region                        18078 non-null  object \n",
      " 8   Is_ASAP                                18078 non-null  bool   \n",
      " 9   Order_total                            18078 non-null  float64\n",
      " 10  Amount_of_discount                     18078 non-null  float64\n",
      " 11  Amount_of_tip                          18078 non-null  float64\n",
      " 12  Refunded_amount                        18078 non-null  float64\n",
      "dtypes: bool(1), float64(4), int64(3), object(5)\n",
      "memory usage: 1.7+ MB\n"
     ]
    },
    {
     "data": {
      "text/html": [
       "<div>\n",
       "<style scoped>\n",
       "    .dataframe tbody tr th:only-of-type {\n",
       "        vertical-align: middle;\n",
       "    }\n",
       "\n",
       "    .dataframe tbody tr th {\n",
       "        vertical-align: top;\n",
       "    }\n",
       "\n",
       "    .dataframe thead th {\n",
       "        text-align: right;\n",
       "    }\n",
       "</style>\n",
       "<table border=\"1\" class=\"dataframe\">\n",
       "  <thead>\n",
       "    <tr style=\"text-align: right;\">\n",
       "      <th></th>\n",
       "      <th>Driver_ID</th>\n",
       "      <th>Restaurant_ID</th>\n",
       "      <th>Consumer_ID</th>\n",
       "      <th>Order_total</th>\n",
       "      <th>Amount_of_discount</th>\n",
       "      <th>Amount_of_tip</th>\n",
       "      <th>Refunded_amount</th>\n",
       "    </tr>\n",
       "  </thead>\n",
       "  <tbody>\n",
       "    <tr>\n",
       "      <th>count</th>\n",
       "      <td>18078.000000</td>\n",
       "      <td>18078.000000</td>\n",
       "      <td>18078.000000</td>\n",
       "      <td>18078.000000</td>\n",
       "      <td>18078.000000</td>\n",
       "      <td>18078.000000</td>\n",
       "      <td>18078.000000</td>\n",
       "    </tr>\n",
       "    <tr>\n",
       "      <th>mean</th>\n",
       "      <td>222.448169</td>\n",
       "      <td>108.721263</td>\n",
       "      <td>32010.313475</td>\n",
       "      <td>51.261496</td>\n",
       "      <td>1.356706</td>\n",
       "      <td>3.492022</td>\n",
       "      <td>0.612091</td>\n",
       "    </tr>\n",
       "    <tr>\n",
       "      <th>std</th>\n",
       "      <td>105.219194</td>\n",
       "      <td>98.609766</td>\n",
       "      <td>42010.215766</td>\n",
       "      <td>50.599675</td>\n",
       "      <td>6.516667</td>\n",
       "      <td>3.700115</td>\n",
       "      <td>6.073104</td>\n",
       "    </tr>\n",
       "    <tr>\n",
       "      <th>min</th>\n",
       "      <td>7.000000</td>\n",
       "      <td>2.000000</td>\n",
       "      <td>5.000000</td>\n",
       "      <td>0.000000</td>\n",
       "      <td>0.000000</td>\n",
       "      <td>0.000000</td>\n",
       "      <td>0.000000</td>\n",
       "    </tr>\n",
       "    <tr>\n",
       "      <th>25%</th>\n",
       "      <td>141.000000</td>\n",
       "      <td>23.000000</td>\n",
       "      <td>4243.500000</td>\n",
       "      <td>26.660000</td>\n",
       "      <td>0.000000</td>\n",
       "      <td>1.400000</td>\n",
       "      <td>0.000000</td>\n",
       "    </tr>\n",
       "    <tr>\n",
       "      <th>50%</th>\n",
       "      <td>227.000000</td>\n",
       "      <td>77.000000</td>\n",
       "      <td>10972.000000</td>\n",
       "      <td>38.630000</td>\n",
       "      <td>0.000000</td>\n",
       "      <td>2.550000</td>\n",
       "      <td>0.000000</td>\n",
       "    </tr>\n",
       "    <tr>\n",
       "      <th>75%</th>\n",
       "      <td>314.000000</td>\n",
       "      <td>186.000000</td>\n",
       "      <td>56857.000000</td>\n",
       "      <td>57.885000</td>\n",
       "      <td>0.000000</td>\n",
       "      <td>4.460000</td>\n",
       "      <td>0.000000</td>\n",
       "    </tr>\n",
       "    <tr>\n",
       "      <th>max</th>\n",
       "      <td>438.000000</td>\n",
       "      <td>409.000000</td>\n",
       "      <td>200449.000000</td>\n",
       "      <td>1604.130000</td>\n",
       "      <td>187.880000</td>\n",
       "      <td>120.300000</td>\n",
       "      <td>414.770000</td>\n",
       "    </tr>\n",
       "  </tbody>\n",
       "</table>\n",
       "</div>"
      ],
      "text/plain": [
       "          Driver_ID  Restaurant_ID    Consumer_ID   Order_total  \\\n",
       "count  18078.000000   18078.000000   18078.000000  18078.000000   \n",
       "mean     222.448169     108.721263   32010.313475     51.261496   \n",
       "std      105.219194      98.609766   42010.215766     50.599675   \n",
       "min        7.000000       2.000000       5.000000      0.000000   \n",
       "25%      141.000000      23.000000    4243.500000     26.660000   \n",
       "50%      227.000000      77.000000   10972.000000     38.630000   \n",
       "75%      314.000000     186.000000   56857.000000     57.885000   \n",
       "max      438.000000     409.000000  200449.000000   1604.130000   \n",
       "\n",
       "       Amount_of_discount  Amount_of_tip  Refunded_amount  \n",
       "count        18078.000000   18078.000000     18078.000000  \n",
       "mean             1.356706       3.492022         0.612091  \n",
       "std              6.516667       3.700115         6.073104  \n",
       "min              0.000000       0.000000         0.000000  \n",
       "25%              0.000000       1.400000         0.000000  \n",
       "50%              0.000000       2.550000         0.000000  \n",
       "75%              0.000000       4.460000         0.000000  \n",
       "max            187.880000     120.300000       414.770000  "
      ]
     },
     "execution_count": 91,
     "metadata": {},
     "output_type": "execute_result"
    }
   ],
   "source": [
    "dt.info()\n",
    "dt.describe(exclude= None)"
   ]
  },
  {
   "cell_type": "code",
   "execution_count": 7,
   "metadata": {},
   "outputs": [
    {
     "data": {
      "text/plain": [
       "Customer_placed_order_datetime              0\n",
       "Placed_order_with_restaurant_datetime      40\n",
       "Driver_at_restaurant_datetime            4531\n",
       "Delivered_to_consumer_datetime              0\n",
       "Driver_ID                                   0\n",
       "Restaurant_ID                               0\n",
       "Consumer_ID                                 0\n",
       "Delivery_Region                             0\n",
       "Is_ASAP                                     0\n",
       "Order_total                                 0\n",
       "Amount_of_discount                          0\n",
       "Amount_of_tip                               0\n",
       "Refunded_amount                             0\n",
       "dtype: int64"
      ]
     },
     "execution_count": 7,
     "metadata": {},
     "output_type": "execute_result"
    }
   ],
   "source": [
    "dt.isnull().sum()"
   ]
  },
  {
   "cell_type": "code",
   "execution_count": 8,
   "metadata": {},
   "outputs": [],
   "source": [
    "dt.loc[dt['Placed_order_with_restaurant_datetime'].isnull(), 'Placed_order_with_restaurant_datetime'] = dt.loc[dt['Placed_order_with_restaurant_datetime'].isnull(), 'Customer_placed_order_datetime']\n"
   ]
  },
  {
   "cell_type": "code",
   "execution_count": 39,
   "metadata": {},
   "outputs": [],
   "source": [
    "dt1= dt.copy()\n",
    "\n",
    "dt1['Customer_placed_order_datetime'] = get_ut_datetime(data= dt , column='Customer_placed_order_datetime')\n",
    "dt1['Placed_order_with_restaurant_datetime'] = get_ut_datetime(data= dt , column='Placed_order_with_restaurant_datetime')\n",
    "dt1['Delivered_to_consumer_datetime'] = get_ut_datetime(data= dt , column='Delivered_to_consumer_datetime')\n",
    "\n",
    "dt1.loc[dt1['Delivered_to_consumer_datetime'] < dt1['Customer_placed_order_datetime'], 'Delivered_to_consumer_datetime']       = dt1.loc[dt1['Delivered_to_consumer_datetime'] < dt1['Customer_placed_order_datetime'], 'Delivered_to_consumer_datetime'].apply(lambda x: x+ relativedelta(months=1))\n",
    "dt1.loc[dt1['Placed_order_with_restaurant_datetime'] < dt1['Customer_placed_order_datetime'], 'Placed_order_with_restaurant_datetime']= dt1.loc[dt1['Placed_order_with_restaurant_datetime'] < dt1['Customer_placed_order_datetime'], 'Placed_order_with_restaurant_datetime'].apply(lambda x: x+ relativedelta(months=1))\n"
   ]
  },
  {
   "cell_type": "code",
   "execution_count": 40,
   "metadata": {},
   "outputs": [
    {
     "name": "stdout",
     "output_type": "stream",
     "text": [
      "(0, 6)\n"
     ]
    }
   ],
   "source": [
    "dt1['Customer_placed_order_datetime_pst'] = get_pst_datetime(data= dt1 , column='Customer_placed_order_datetime')\n",
    "dt1['Placed_order_with_restaurant_datetime_pst'] = get_pst_datetime(data= dt1 , column='Placed_order_with_restaurant_datetime')\n",
    "dt1['Delivered_to_consumer_datetime_pst'] = get_pst_datetime(data= dt1 , column='Delivered_to_consumer_datetime')\n",
    "\n",
    "print(dt1.loc[dt1['Placed_order_with_restaurant_datetime_pst'] < dt1['Customer_placed_order_datetime_pst']][['Customer_placed_order_datetime', 'Customer_placed_order_datetime_pst', 'Placed_order_with_restaurant_datetime', 'Placed_order_with_restaurant_datetime_pst', 'Delivered_to_consumer_datetime', 'Delivered_to_consumer_datetime_pst']].shape)\n"
   ]
  },
  {
   "cell_type": "code",
   "execution_count": 41,
   "metadata": {},
   "outputs": [],
   "source": [
    "dt1['app_order_time'] = (dt1['Placed_order_with_restaurant_datetime_pst'] - dt1['Customer_placed_order_datetime_pst']).astype('timedelta64[s]')/60.0\n",
    "dt1['total_delivery_time'] = (dt1['Delivered_to_consumer_datetime_pst'] - dt1['Customer_placed_order_datetime_pst']).astype('timedelta64[s]')/60.0"
   ]
  },
  {
   "cell_type": "code",
   "execution_count": 44,
   "metadata": {},
   "outputs": [],
   "source": [
    "dt1['order_placed_hour'] = dt1.Customer_placed_order_datetime_pst.dt.hour\n",
    "dt1['order_placed_day'] = dt1.Customer_placed_order_datetime_pst.dt.day\n",
    "dt1['order_placed_time_of_day'] = np.where((dt1['order_placed_hour'] >= 2) & (dt1['order_placed_hour'] <= 9), 'Morning',\n",
    "                                          np.where((dt1['order_placed_hour'] > 9) & (dt1['order_placed_hour'] <= 16), 'Afternoon',\n",
    "                                          'Night'))\n"
   ]
  },
  {
   "cell_type": "code",
   "execution_count": 45,
   "metadata": {},
   "outputs": [
    {
     "data": {
      "text/plain": [
       "Night        0.480639\n",
       "Afternoon    0.454696\n",
       "Morning      0.064664\n",
       "Name: order_placed_time_of_day, dtype: float64"
      ]
     },
     "execution_count": 45,
     "metadata": {},
     "output_type": "execute_result"
    }
   ],
   "source": [
    "dt1[['order_placed_hour']].value_counts(True)\n",
    "dt1['order_placed_time_of_day'].value_counts(True)"
   ]
  },
  {
   "cell_type": "code",
   "execution_count": 47,
   "metadata": {},
   "outputs": [
    {
     "data": {
      "text/plain": [
       "Is_ASAP  delivery_time_bucket\n",
       "False    4. More than 60         0.852320\n",
       "         3. 45 to 60             0.111447\n",
       "         2. 30 to 45             0.032665\n",
       "         1. 0 to 30              0.003568\n",
       "True     2. 30 to 45             0.410184\n",
       "         3. 45 to 60             0.293731\n",
       "         4. More than 60         0.175961\n",
       "         1. 0 to 30              0.120125\n",
       "Name: delivery_time_bucket, dtype: float64"
      ]
     },
     "execution_count": 47,
     "metadata": {},
     "output_type": "execute_result"
    }
   ],
   "source": [
    "dt1['delivery_time_bucket'] = np.where(dt1['total_delivery_time']<= 30, '1. 0 to 30', \n",
    "                                      np.where(dt1['total_delivery_time']<= 45, '2. 30 to 45', \n",
    "                                      np.where(dt1['total_delivery_time']<= 60, '3. 45 to 60', \n",
    "                                               '4. More than 60')))\n",
    "\n",
    "dt1.groupby('Is_ASAP')['delivery_time_bucket'].value_counts(True)\n"
   ]
  },
  {
   "cell_type": "code",
   "execution_count": 48,
   "metadata": {},
   "outputs": [],
   "source": [
    "dt1['Customer_placed_last_order']=  dt1.sort_values('Customer_placed_order_datetime').groupby('Consumer_ID')['Customer_placed_order_datetime'].shift(1)\n",
    "dt1 = dt1.sort_values(['Consumer_ID','Customer_placed_order_datetime'])\n"
   ]
  },
  {
   "cell_type": "code",
   "execution_count": 49,
   "metadata": {},
   "outputs": [
    {
     "data": {
      "text/html": [
       "<div>\n",
       "<style scoped>\n",
       "    .dataframe tbody tr th:only-of-type {\n",
       "        vertical-align: middle;\n",
       "    }\n",
       "\n",
       "    .dataframe tbody tr th {\n",
       "        vertical-align: top;\n",
       "    }\n",
       "\n",
       "    .dataframe thead th {\n",
       "        text-align: right;\n",
       "    }\n",
       "</style>\n",
       "<table border=\"1\" class=\"dataframe\">\n",
       "  <thead>\n",
       "    <tr style=\"text-align: right;\">\n",
       "      <th></th>\n",
       "      <th>Customer_placed_order_datetime</th>\n",
       "      <th>Placed_order_with_restaurant_datetime</th>\n",
       "      <th>Driver_at_restaurant_datetime</th>\n",
       "      <th>Delivered_to_consumer_datetime</th>\n",
       "      <th>Driver_ID</th>\n",
       "      <th>Restaurant_ID</th>\n",
       "      <th>Consumer_ID</th>\n",
       "      <th>Delivery_Region</th>\n",
       "      <th>Is_ASAP</th>\n",
       "      <th>Order_total</th>\n",
       "      <th>...</th>\n",
       "      <th>Placed_order_with_restaurant_datetime_pst</th>\n",
       "      <th>Delivered_to_consumer_datetime_pst</th>\n",
       "      <th>app_order_time</th>\n",
       "      <th>total_delivery_time</th>\n",
       "      <th>order_placed_hour</th>\n",
       "      <th>order_placed_day</th>\n",
       "      <th>order_placed_time_of_day</th>\n",
       "      <th>delivery_time_bucket</th>\n",
       "      <th>Customer_placed_last_order</th>\n",
       "      <th>last_order_placed_days</th>\n",
       "    </tr>\n",
       "  </thead>\n",
       "  <tbody>\n",
       "    <tr>\n",
       "      <th>407</th>\n",
       "      <td>2022-03-07 20:16:28</td>\n",
       "      <td>2022-03-07 20:17:32</td>\n",
       "      <td>07 20:36:00</td>\n",
       "      <td>2022-03-07 20:49:02</td>\n",
       "      <td>325</td>\n",
       "      <td>66</td>\n",
       "      <td>5</td>\n",
       "      <td>Palo Alto</td>\n",
       "      <td>True</td>\n",
       "      <td>40.62</td>\n",
       "      <td>...</td>\n",
       "      <td>2022-03-07 12:17:32</td>\n",
       "      <td>2022-03-07 12:49:02</td>\n",
       "      <td>1.066667</td>\n",
       "      <td>32.566667</td>\n",
       "      <td>12</td>\n",
       "      <td>7</td>\n",
       "      <td>Afternoon</td>\n",
       "      <td>2. 30 to 45</td>\n",
       "      <td>NaT</td>\n",
       "      <td>NaN</td>\n",
       "    </tr>\n",
       "    <tr>\n",
       "      <th>8369</th>\n",
       "      <td>2022-03-13 19:35:09</td>\n",
       "      <td>2022-03-13 19:39:26</td>\n",
       "      <td>13 20:28:16</td>\n",
       "      <td>2022-03-13 20:52:44</td>\n",
       "      <td>200</td>\n",
       "      <td>124</td>\n",
       "      <td>5</td>\n",
       "      <td>Palo Alto</td>\n",
       "      <td>True</td>\n",
       "      <td>37.78</td>\n",
       "      <td>...</td>\n",
       "      <td>2022-03-13 11:39:26</td>\n",
       "      <td>2022-03-13 12:52:44</td>\n",
       "      <td>4.283333</td>\n",
       "      <td>77.583333</td>\n",
       "      <td>11</td>\n",
       "      <td>13</td>\n",
       "      <td>Afternoon</td>\n",
       "      <td>4. More than 60</td>\n",
       "      <td>2022-03-07 20:16:28</td>\n",
       "      <td>6.0</td>\n",
       "    </tr>\n",
       "    <tr>\n",
       "      <th>9616</th>\n",
       "      <td>2022-03-14 20:27:45</td>\n",
       "      <td>2022-03-14 20:29:41</td>\n",
       "      <td>14 20:39:32</td>\n",
       "      <td>2022-03-14 20:52:03</td>\n",
       "      <td>86</td>\n",
       "      <td>12</td>\n",
       "      <td>5</td>\n",
       "      <td>Palo Alto</td>\n",
       "      <td>True</td>\n",
       "      <td>20.45</td>\n",
       "      <td>...</td>\n",
       "      <td>2022-03-14 12:29:41</td>\n",
       "      <td>2022-03-14 12:52:03</td>\n",
       "      <td>1.933333</td>\n",
       "      <td>24.300000</td>\n",
       "      <td>12</td>\n",
       "      <td>14</td>\n",
       "      <td>Afternoon</td>\n",
       "      <td>1. 0 to 30</td>\n",
       "      <td>2022-03-13 19:35:09</td>\n",
       "      <td>1.0</td>\n",
       "    </tr>\n",
       "    <tr>\n",
       "      <th>8077</th>\n",
       "      <td>2022-03-02 02:13:30</td>\n",
       "      <td>2022-03-02 02:21:03</td>\n",
       "      <td>02 02:28:26</td>\n",
       "      <td>2022-03-02 03:17:48</td>\n",
       "      <td>29</td>\n",
       "      <td>53</td>\n",
       "      <td>14</td>\n",
       "      <td>Palo Alto</td>\n",
       "      <td>True</td>\n",
       "      <td>52.71</td>\n",
       "      <td>...</td>\n",
       "      <td>2022-03-01 18:21:03</td>\n",
       "      <td>2022-03-01 19:17:48</td>\n",
       "      <td>7.550000</td>\n",
       "      <td>64.300000</td>\n",
       "      <td>18</td>\n",
       "      <td>1</td>\n",
       "      <td>Night</td>\n",
       "      <td>4. More than 60</td>\n",
       "      <td>NaT</td>\n",
       "      <td>NaN</td>\n",
       "    </tr>\n",
       "    <tr>\n",
       "      <th>1357</th>\n",
       "      <td>2022-03-02 17:14:25</td>\n",
       "      <td>2022-03-02 17:20:33</td>\n",
       "      <td>02 18:35:25</td>\n",
       "      <td>2022-03-02 18:47:56</td>\n",
       "      <td>69</td>\n",
       "      <td>312</td>\n",
       "      <td>14</td>\n",
       "      <td>Palo Alto</td>\n",
       "      <td>False</td>\n",
       "      <td>31.89</td>\n",
       "      <td>...</td>\n",
       "      <td>2022-03-02 09:20:33</td>\n",
       "      <td>2022-03-02 10:47:56</td>\n",
       "      <td>6.133333</td>\n",
       "      <td>93.516667</td>\n",
       "      <td>9</td>\n",
       "      <td>2</td>\n",
       "      <td>Morning</td>\n",
       "      <td>4. More than 60</td>\n",
       "      <td>2022-03-02 02:13:30</td>\n",
       "      <td>0.0</td>\n",
       "    </tr>\n",
       "  </tbody>\n",
       "</table>\n",
       "<p>5 rows × 24 columns</p>\n",
       "</div>"
      ],
      "text/plain": [
       "     Customer_placed_order_datetime Placed_order_with_restaurant_datetime  \\\n",
       "407             2022-03-07 20:16:28                   2022-03-07 20:17:32   \n",
       "8369            2022-03-13 19:35:09                   2022-03-13 19:39:26   \n",
       "9616            2022-03-14 20:27:45                   2022-03-14 20:29:41   \n",
       "8077            2022-03-02 02:13:30                   2022-03-02 02:21:03   \n",
       "1357            2022-03-02 17:14:25                   2022-03-02 17:20:33   \n",
       "\n",
       "     Driver_at_restaurant_datetime Delivered_to_consumer_datetime  Driver_ID  \\\n",
       "407                    07 20:36:00            2022-03-07 20:49:02        325   \n",
       "8369                   13 20:28:16            2022-03-13 20:52:44        200   \n",
       "9616                   14 20:39:32            2022-03-14 20:52:03         86   \n",
       "8077                   02 02:28:26            2022-03-02 03:17:48         29   \n",
       "1357                   02 18:35:25            2022-03-02 18:47:56         69   \n",
       "\n",
       "      Restaurant_ID  Consumer_ID Delivery_Region  Is_ASAP  Order_total  ...  \\\n",
       "407              66            5       Palo Alto     True        40.62  ...   \n",
       "8369            124            5       Palo Alto     True        37.78  ...   \n",
       "9616             12            5       Palo Alto     True        20.45  ...   \n",
       "8077             53           14       Palo Alto     True        52.71  ...   \n",
       "1357            312           14       Palo Alto    False        31.89  ...   \n",
       "\n",
       "      Placed_order_with_restaurant_datetime_pst  \\\n",
       "407                         2022-03-07 12:17:32   \n",
       "8369                        2022-03-13 11:39:26   \n",
       "9616                        2022-03-14 12:29:41   \n",
       "8077                        2022-03-01 18:21:03   \n",
       "1357                        2022-03-02 09:20:33   \n",
       "\n",
       "      Delivered_to_consumer_datetime_pst  app_order_time total_delivery_time  \\\n",
       "407                  2022-03-07 12:49:02        1.066667           32.566667   \n",
       "8369                 2022-03-13 12:52:44        4.283333           77.583333   \n",
       "9616                 2022-03-14 12:52:03        1.933333           24.300000   \n",
       "8077                 2022-03-01 19:17:48        7.550000           64.300000   \n",
       "1357                 2022-03-02 10:47:56        6.133333           93.516667   \n",
       "\n",
       "     order_placed_hour order_placed_day  order_placed_time_of_day  \\\n",
       "407                 12                7                 Afternoon   \n",
       "8369                11               13                 Afternoon   \n",
       "9616                12               14                 Afternoon   \n",
       "8077                18                1                     Night   \n",
       "1357                 9                2                   Morning   \n",
       "\n",
       "      delivery_time_bucket  Customer_placed_last_order  last_order_placed_days  \n",
       "407            2. 30 to 45                         NaT                     NaN  \n",
       "8369       4. More than 60         2022-03-07 20:16:28                     6.0  \n",
       "9616            1. 0 to 30         2022-03-13 19:35:09                     1.0  \n",
       "8077       4. More than 60                         NaT                     NaN  \n",
       "1357       4. More than 60         2022-03-02 02:13:30                     0.0  \n",
       "\n",
       "[5 rows x 24 columns]"
      ]
     },
     "execution_count": 49,
     "metadata": {},
     "output_type": "execute_result"
    }
   ],
   "source": [
    "dt1[['Consumer_ID', 'Customer_placed_order_datetime', 'Customer_placed_last_order']][dt1.Consumer_ID == 46332]\n",
    "dt1['last_order_placed_days'] = (dt1['Customer_placed_order_datetime'].dt.date - dt1['Customer_placed_last_order'].dt.date).dt.days\n",
    "dt1.head()\n"
   ]
  },
  {
   "cell_type": "code",
   "execution_count": 93,
   "metadata": {},
   "outputs": [
    {
     "data": {
      "image/png": "[encoded data removed]",
      "text/plain": [
       "<Figure size 576x288 with 1 Axes>"
      ]
     },
     "metadata": {},
     "output_type": "display_data"
    },
    {
     "data": {
      "image/png": "[encoded data removed]",
      "text/plain": [
       "<Figure size 576x288 with 1 Axes>"
      ]
     },
     "metadata": {},
     "output_type": "display_data"
    }
   ],
   "source": [
    "import matplotlib.pyplot as plt\n",
    "import numpy as np\n",
    "\n",
    "plt.figure(figsize= (8,4))\n",
    "plt.hist(dt1['order_placed_hour'])\n",
    "plt.show()\n",
    "\n",
    "plt.figure(figsize= (8,4))\n",
    "plt.hist(dt1['order_placed_day'], bins= 30)\n",
    "plt.show()\n",
    "\n"
   ]
  },
  {
   "cell_type": "markdown",
   "metadata": {},
   "source": [
    "## Clustering"
   ]
  },
  {
   "cell_type": "code",
   "execution_count": 52,
   "metadata": {},
   "outputs": [],
   "source": [
    "import statsmodels.api as sm\n",
    "import matplotlib.pyplot as plt\n",
    "import seaborn as sns\n",
    "sns.set()\n",
    "from sklearn.cluster import KMeans"
   ]
  },
  {
   "cell_type": "code",
   "execution_count": 63,
   "metadata": {},
   "outputs": [
    {
     "data": {
      "text/html": [
       "<div>\n",
       "<style scoped>\n",
       "    .dataframe tbody tr th:only-of-type {\n",
       "        vertical-align: middle;\n",
       "    }\n",
       "\n",
       "    .dataframe tbody tr th {\n",
       "        vertical-align: top;\n",
       "    }\n",
       "\n",
       "    .dataframe thead th {\n",
       "        text-align: right;\n",
       "    }\n",
       "</style>\n",
       "<table border=\"1\" class=\"dataframe\">\n",
       "  <thead>\n",
       "    <tr style=\"text-align: right;\">\n",
       "      <th></th>\n",
       "      <th>Consumer_ID</th>\n",
       "      <th>counts</th>\n",
       "      <th>is_repeat_customers</th>\n",
       "    </tr>\n",
       "  </thead>\n",
       "  <tbody>\n",
       "    <tr>\n",
       "      <th>0</th>\n",
       "      <td>514</td>\n",
       "      <td>66</td>\n",
       "      <td>1</td>\n",
       "    </tr>\n",
       "    <tr>\n",
       "      <th>1</th>\n",
       "      <td>929</td>\n",
       "      <td>50</td>\n",
       "      <td>1</td>\n",
       "    </tr>\n",
       "    <tr>\n",
       "      <th>2</th>\n",
       "      <td>11956</td>\n",
       "      <td>47</td>\n",
       "      <td>1</td>\n",
       "    </tr>\n",
       "    <tr>\n",
       "      <th>3</th>\n",
       "      <td>2469</td>\n",
       "      <td>43</td>\n",
       "      <td>1</td>\n",
       "    </tr>\n",
       "    <tr>\n",
       "      <th>4</th>\n",
       "      <td>4087</td>\n",
       "      <td>39</td>\n",
       "      <td>1</td>\n",
       "    </tr>\n",
       "  </tbody>\n",
       "</table>\n",
       "</div>"
      ],
      "text/plain": [
       "   Consumer_ID  counts  is_repeat_customers\n",
       "0          514      66                    1\n",
       "1          929      50                    1\n",
       "2        11956      47                    1\n",
       "3         2469      43                    1\n",
       "4         4087      39                    1"
      ]
     },
     "execution_count": 63,
     "metadata": {},
     "output_type": "execute_result"
    }
   ],
   "source": [
    "repeat_customers= dt1['Consumer_ID'].value_counts().reset_index().rename(columns= {'index': 'Consumer_ID', 'Consumer_ID': 'counts'})\n",
    "repeat_customers['is_repeat_customers'] =np.where(repeat_customers['counts']>=4, 1,0) \n",
    "repeat_customers.head()\n"
   ]
  },
  {
   "cell_type": "code",
   "execution_count": 64,
   "metadata": {},
   "outputs": [],
   "source": [
    "dt1= dt1.merge(repeat_customers[['Consumer_ID', 'counts']], on= 'Consumer_ID', how= 'left')"
   ]
  },
  {
   "cell_type": "code",
   "execution_count": 79,
   "metadata": {},
   "outputs": [
    {
     "data": {
      "text/html": [
       "<div>\n",
       "<style scoped>\n",
       "    .dataframe tbody tr th:only-of-type {\n",
       "        vertical-align: middle;\n",
       "    }\n",
       "\n",
       "    .dataframe tbody tr th {\n",
       "        vertical-align: top;\n",
       "    }\n",
       "\n",
       "    .dataframe thead th {\n",
       "        text-align: right;\n",
       "    }\n",
       "</style>\n",
       "<table border=\"1\" class=\"dataframe\">\n",
       "  <thead>\n",
       "    <tr style=\"text-align: right;\">\n",
       "      <th></th>\n",
       "      <th>Consumer_ID</th>\n",
       "      <th>counts</th>\n",
       "      <th>Amount_of_discount</th>\n",
       "      <th>Order_total</th>\n",
       "      <th>Amount_of_tip</th>\n",
       "    </tr>\n",
       "  </thead>\n",
       "  <tbody>\n",
       "    <tr>\n",
       "      <th>0</th>\n",
       "      <td>5</td>\n",
       "      <td>3</td>\n",
       "      <td>32.95</td>\n",
       "      <td>32.950000</td>\n",
       "      <td>2.896667</td>\n",
       "    </tr>\n",
       "    <tr>\n",
       "      <th>1</th>\n",
       "      <td>14</td>\n",
       "      <td>14</td>\n",
       "      <td>0.00</td>\n",
       "      <td>44.298571</td>\n",
       "      <td>4.187143</td>\n",
       "    </tr>\n",
       "    <tr>\n",
       "      <th>2</th>\n",
       "      <td>15</td>\n",
       "      <td>7</td>\n",
       "      <td>0.00</td>\n",
       "      <td>38.247143</td>\n",
       "      <td>1.535714</td>\n",
       "    </tr>\n",
       "    <tr>\n",
       "      <th>3</th>\n",
       "      <td>21</td>\n",
       "      <td>5</td>\n",
       "      <td>0.00</td>\n",
       "      <td>37.932000</td>\n",
       "      <td>1.898000</td>\n",
       "    </tr>\n",
       "    <tr>\n",
       "      <th>4</th>\n",
       "      <td>25</td>\n",
       "      <td>1</td>\n",
       "      <td>0.00</td>\n",
       "      <td>38.520000</td>\n",
       "      <td>1.490000</td>\n",
       "    </tr>\n",
       "  </tbody>\n",
       "</table>\n",
       "</div>"
      ],
      "text/plain": [
       "   Consumer_ID  counts  Amount_of_discount  Order_total  Amount_of_tip\n",
       "0            5       3               32.95    32.950000       2.896667\n",
       "1           14      14                0.00    44.298571       4.187143\n",
       "2           15       7                0.00    38.247143       1.535714\n",
       "3           21       5                0.00    37.932000       1.898000\n",
       "4           25       1                0.00    38.520000       1.490000"
      ]
     },
     "execution_count": 79,
     "metadata": {},
     "output_type": "execute_result"
    }
   ],
   "source": [
    "dt2 = dt1.groupby(['Consumer_ID', 'counts'])[['Amount_of_discount', 'Order_total', 'Amount_of_tip']].mean().reset_index()\n",
    "dt2.head()\n"
   ]
  },
  {
   "cell_type": "code",
   "execution_count": 80,
   "metadata": {},
   "outputs": [],
   "source": [
    "X = dt2[['counts', 'Amount_of_discount', 'Order_total', 'Amount_of_tip']]\n",
    "scaler = StandardScaler()\n",
    "X1= scaler.fit_transform(X)\n",
    "\n"
   ]
  },
  {
   "cell_type": "code",
   "execution_count": 82,
   "metadata": {
    "scrolled": true
   },
   "outputs": [
    {
     "data": {
      "image/png": "[encoded data removed]",
      "text/plain": [
       "<Figure size 432x288 with 1 Axes>"
      ]
     },
     "metadata": {},
     "output_type": "display_data"
    }
   ],
   "source": [
    "from sklearn.cluster import KMeans\n",
    "wcss=[]\n",
    "for i in range(1,11): \n",
    "    kmeans = KMeans(n_clusters=i, max_iter=300,  n_init=10,random_state=0 )\n",
    "    kmeans.fit(X1)\n",
    "\n",
    "    wcss.append(kmeans.inertia_)\n",
    "\n",
    "plt.plot(range(1,11),wcss)\n",
    "plt.title('The Elbow Method Graph')\n",
    "plt.xlabel('Number of clusters')\n",
    "plt.ylabel('WCSS')\n",
    "plt.show()"
   ]
  },
  {
   "cell_type": "code",
   "execution_count": 95,
   "metadata": {},
   "outputs": [],
   "source": [
    "kmeans = KMeans(n_clusters=4, init ='k-means++', max_iter=300, n_init=10 , random_state= 200)\n",
    "y_kmeans = kmeans.fit_predict(X1)\n",
    "dt2['clusters_km'] = y_kmeans\n"
   ]
  },
  {
   "cell_type": "code",
   "execution_count": 84,
   "metadata": {},
   "outputs": [
    {
     "data": {
      "image/png": "[encoded data removed]",
      "text/plain": [
       "<Figure size 432x288 with 1 Axes>"
      ]
     },
     "metadata": {},
     "output_type": "display_data"
    }
   ],
   "source": [
    "plt.scatter(dt2.loc[dt2.clusters_km==0, 'counts'], dt2.loc[dt2.clusters_km==0, 'Amount_of_discount'], s=50, c='cyan', label ='Cluster 0')\n",
    "plt.scatter(dt2.loc[dt2.clusters_km==1, 'counts'], dt2.loc[dt2.clusters_km==1, 'Amount_of_discount'], s=50, c='blue', label ='Cluster 1')\n",
    "plt.scatter(dt2.loc[dt2.clusters_km==2, 'counts'], dt2.loc[dt2.clusters_km==2, 'Amount_of_discount'], s=50, c='green', label ='Cluster 2')\n",
    "plt.scatter(dt2.loc[dt2.clusters_km==3, 'counts'], dt2.loc[dt2.clusters_km==3, 'Amount_of_discount'], s=50, c='red', label ='Cluster 3')\n",
    "plt.title('Clusters of Customers', size= 20)\n",
    "plt.xlabel('Order Counts')\n",
    "plt.ylabel('Amount of discount')\n",
    "plt.legend(loc=\"upper right\")\n",
    "plt.show()\n"
   ]
  },
  {
   "cell_type": "code",
   "execution_count": 88,
   "metadata": {},
   "outputs": [],
   "source": [
    "dt_new= dt2.merge(repeat_customers[['Consumer_ID', 'is_repeat_customers']], on= 'Consumer_ID', how= 'left')\n",
    "dt_new.groupby('clusters_km')['is_repeat_customers'].value_counts(True)\n",
    "dt_new.head()\n"
   ]
  },
  {
   "cell_type": "code",
   "execution_count": 97,
   "metadata": {},
   "outputs": [
    {
     "data": {
      "image/png": "[encoded data removed]",
      "text/plain": [
       "<Figure size 432x288 with 2 Axes>"
      ]
     },
     "metadata": {},
     "output_type": "display_data"
    }
   ],
   "source": [
    "corr = dt1.corr()\n",
    "sns.heatmap(corr, xticklabels=corr.columns, yticklabels=corr.columns)\n",
    "plt.show()\n",
    "\n"
   ]
  },
  {
   "cell_type": "code",
   "execution_count": 101,
   "metadata": {},
   "outputs": [
    {
     "data": {
      "text/plain": [
       "order_placed_time_of_day\n",
       "Afternoon     46.914908\n",
       "Morning      136.529167\n",
       "Night         46.827193\n",
       "Name: total_delivery_time, dtype: float64"
      ]
     },
     "execution_count": 101,
     "metadata": {},
     "output_type": "execute_result"
    }
   ],
   "source": [
    "dt1[dt1.Is_ASAP == True].groupby(['order_placed_time_of_day'])['total_delivery_time'].median()\n",
    "dt1[dt1.Is_ASAP == True].groupby(['order_placed_time_of_day'])['total_delivery_time'].mean()\n"
   ]
  },
  {
   "cell_type": "code",
   "execution_count": 102,
   "metadata": {},
   "outputs": [
    {
     "data": {
      "text/html": [
       "<div>\n",
       "<style scoped>\n",
       "    .dataframe tbody tr th:only-of-type {\n",
       "        vertical-align: middle;\n",
       "    }\n",
       "\n",
       "    .dataframe tbody tr th {\n",
       "        vertical-align: top;\n",
       "    }\n",
       "\n",
       "    .dataframe thead th {\n",
       "        text-align: right;\n",
       "    }\n",
       "</style>\n",
       "<table border=\"1\" class=\"dataframe\">\n",
       "  <thead>\n",
       "    <tr style=\"text-align: right;\">\n",
       "      <th></th>\n",
       "      <th>order_placed_hour</th>\n",
       "      <th>total_orders</th>\n",
       "      <th>unique_drivers</th>\n",
       "      <th>no_of_orders_per_driver</th>\n",
       "      <th>avg_delivery_time</th>\n",
       "    </tr>\n",
       "  </thead>\n",
       "  <tbody>\n",
       "    <tr>\n",
       "      <th>0</th>\n",
       "      <td>7</td>\n",
       "      <td>1</td>\n",
       "      <td>1</td>\n",
       "      <td>1.000000</td>\n",
       "      <td>178.066667</td>\n",
       "    </tr>\n",
       "    <tr>\n",
       "      <th>1</th>\n",
       "      <td>8</td>\n",
       "      <td>1</td>\n",
       "      <td>1</td>\n",
       "      <td>1.000000</td>\n",
       "      <td>188.033333</td>\n",
       "    </tr>\n",
       "    <tr>\n",
       "      <th>2</th>\n",
       "      <td>9</td>\n",
       "      <td>2</td>\n",
       "      <td>2</td>\n",
       "      <td>1.000000</td>\n",
       "      <td>90.008333</td>\n",
       "    </tr>\n",
       "    <tr>\n",
       "      <th>7</th>\n",
       "      <td>14</td>\n",
       "      <td>6</td>\n",
       "      <td>6</td>\n",
       "      <td>1.000000</td>\n",
       "      <td>38.875000</td>\n",
       "    </tr>\n",
       "    <tr>\n",
       "      <th>14</th>\n",
       "      <td>21</td>\n",
       "      <td>8</td>\n",
       "      <td>8</td>\n",
       "      <td>1.000000</td>\n",
       "      <td>28.354167</td>\n",
       "    </tr>\n",
       "    <tr>\n",
       "      <th>8</th>\n",
       "      <td>15</td>\n",
       "      <td>390</td>\n",
       "      <td>139</td>\n",
       "      <td>2.805755</td>\n",
       "      <td>42.114145</td>\n",
       "    </tr>\n",
       "    <tr>\n",
       "      <th>6</th>\n",
       "      <td>13</td>\n",
       "      <td>181</td>\n",
       "      <td>64</td>\n",
       "      <td>2.828125</td>\n",
       "      <td>43.535175</td>\n",
       "    </tr>\n",
       "    <tr>\n",
       "      <th>13</th>\n",
       "      <td>20</td>\n",
       "      <td>642</td>\n",
       "      <td>140</td>\n",
       "      <td>4.585714</td>\n",
       "      <td>37.722404</td>\n",
       "    </tr>\n",
       "    <tr>\n",
       "      <th>5</th>\n",
       "      <td>12</td>\n",
       "      <td>805</td>\n",
       "      <td>161</td>\n",
       "      <td>5.000000</td>\n",
       "      <td>41.279793</td>\n",
       "    </tr>\n",
       "    <tr>\n",
       "      <th>3</th>\n",
       "      <td>10</td>\n",
       "      <td>1040</td>\n",
       "      <td>173</td>\n",
       "      <td>6.011561</td>\n",
       "      <td>52.526651</td>\n",
       "    </tr>\n",
       "    <tr>\n",
       "      <th>4</th>\n",
       "      <td>11</td>\n",
       "      <td>1125</td>\n",
       "      <td>180</td>\n",
       "      <td>6.250000</td>\n",
       "      <td>46.119570</td>\n",
       "    </tr>\n",
       "    <tr>\n",
       "      <th>12</th>\n",
       "      <td>19</td>\n",
       "      <td>1747</td>\n",
       "      <td>213</td>\n",
       "      <td>8.201878</td>\n",
       "      <td>42.506125</td>\n",
       "    </tr>\n",
       "    <tr>\n",
       "      <th>9</th>\n",
       "      <td>16</td>\n",
       "      <td>2432</td>\n",
       "      <td>246</td>\n",
       "      <td>9.886179</td>\n",
       "      <td>47.789529</td>\n",
       "    </tr>\n",
       "    <tr>\n",
       "      <th>11</th>\n",
       "      <td>18</td>\n",
       "      <td>2801</td>\n",
       "      <td>252</td>\n",
       "      <td>11.115079</td>\n",
       "      <td>47.752904</td>\n",
       "    </tr>\n",
       "    <tr>\n",
       "      <th>10</th>\n",
       "      <td>17</td>\n",
       "      <td>3254</td>\n",
       "      <td>256</td>\n",
       "      <td>12.710938</td>\n",
       "      <td>50.191989</td>\n",
       "    </tr>\n",
       "  </tbody>\n",
       "</table>\n",
       "</div>"
      ],
      "text/plain": [
       "    order_placed_hour  total_orders  unique_drivers  no_of_orders_per_driver  \\\n",
       "0                   7             1               1                 1.000000   \n",
       "1                   8             1               1                 1.000000   \n",
       "2                   9             2               2                 1.000000   \n",
       "7                  14             6               6                 1.000000   \n",
       "14                 21             8               8                 1.000000   \n",
       "8                  15           390             139                 2.805755   \n",
       "6                  13           181              64                 2.828125   \n",
       "13                 20           642             140                 4.585714   \n",
       "5                  12           805             161                 5.000000   \n",
       "3                  10          1040             173                 6.011561   \n",
       "4                  11          1125             180                 6.250000   \n",
       "12                 19          1747             213                 8.201878   \n",
       "9                  16          2432             246                 9.886179   \n",
       "11                 18          2801             252                11.115079   \n",
       "10                 17          3254             256                12.710938   \n",
       "\n",
       "    avg_delivery_time  \n",
       "0          178.066667  \n",
       "1          188.033333  \n",
       "2           90.008333  \n",
       "7           38.875000  \n",
       "14          28.354167  \n",
       "8           42.114145  \n",
       "6           43.535175  \n",
       "13          37.722404  \n",
       "5           41.279793  \n",
       "3           52.526651  \n",
       "4           46.119570  \n",
       "12          42.506125  \n",
       "9           47.789529  \n",
       "11          47.752904  \n",
       "10          50.191989  "
      ]
     },
     "execution_count": 102,
     "metadata": {},
     "output_type": "execute_result"
    }
   ],
   "source": [
    "no_of_drivers = dt1[dt1.Is_ASAP == True].groupby(['order_placed_hour'])['Driver_ID'].nunique().reset_index().rename(columns= {'Driver_ID' : 'unique_drivers'})\n",
    "no_of_orders = dt1[dt1.Is_ASAP == True].groupby(['order_placed_hour'])['Consumer_ID'].count().reset_index().rename(columns= {'Consumer_ID' : 'total_orders'})\n",
    "avg_delivery_time = dt1[dt1.Is_ASAP == True].groupby(['order_placed_hour'])['total_delivery_time'].mean().reset_index().rename(columns= {'total_delivery_time' : 'avg_delivery_time'})\n",
    "\n",
    "no_of_orders = no_of_orders.merge(no_of_drivers, on= 'order_placed_hour')\n",
    "no_of_orders['no_of_orders_per_driver'] = no_of_orders['total_orders']/no_of_orders['unique_drivers']\n",
    "no_of_orders = no_of_orders.merge(avg_delivery_time, on= 'order_placed_hour')\n",
    "\n",
    "no_of_orders.sort_values('no_of_orders_per_driver')\n",
    "\n"
   ]
  },
  {
   "cell_type": "code",
   "execution_count": 107,
   "metadata": {},
   "outputs": [
    {
     "data": {
      "text/html": [
       "<div>\n",
       "<style scoped>\n",
       "    .dataframe tbody tr th:only-of-type {\n",
       "        vertical-align: middle;\n",
       "    }\n",
       "\n",
       "    .dataframe tbody tr th {\n",
       "        vertical-align: top;\n",
       "    }\n",
       "\n",
       "    .dataframe thead th {\n",
       "        text-align: right;\n",
       "    }\n",
       "</style>\n",
       "<table border=\"1\" class=\"dataframe\">\n",
       "  <thead>\n",
       "    <tr style=\"text-align: right;\">\n",
       "      <th></th>\n",
       "      <th>order_placed_time_of_day</th>\n",
       "      <th>total_orders</th>\n",
       "      <th>unique_drivers</th>\n",
       "      <th>no_of_orders_per_driver</th>\n",
       "      <th>total_delivery_time</th>\n",
       "    </tr>\n",
       "  </thead>\n",
       "  <tbody>\n",
       "    <tr>\n",
       "      <th>0</th>\n",
       "      <td>Afternoon</td>\n",
       "      <td>5979</td>\n",
       "      <td>283</td>\n",
       "      <td>26.109170</td>\n",
       "      <td>46.914908</td>\n",
       "    </tr>\n",
       "    <tr>\n",
       "      <th>1</th>\n",
       "      <td>Morning</td>\n",
       "      <td>4</td>\n",
       "      <td>3</td>\n",
       "      <td>0.014235</td>\n",
       "      <td>136.529167</td>\n",
       "    </tr>\n",
       "    <tr>\n",
       "      <th>2</th>\n",
       "      <td>Night</td>\n",
       "      <td>8452</td>\n",
       "      <td>264</td>\n",
       "      <td>30.185714</td>\n",
       "      <td>46.827193</td>\n",
       "    </tr>\n",
       "  </tbody>\n",
       "</table>\n",
       "</div>"
      ],
      "text/plain": [
       "  order_placed_time_of_day  total_orders  unique_drivers  \\\n",
       "0                Afternoon          5979             283   \n",
       "1                  Morning             4               3   \n",
       "2                    Night          8452             264   \n",
       "\n",
       "   no_of_orders_per_driver  total_delivery_time  \n",
       "0                26.109170            46.914908  \n",
       "1                 0.014235           136.529167  \n",
       "2                30.185714            46.827193  "
      ]
     },
     "execution_count": 107,
     "metadata": {},
     "output_type": "execute_result"
    }
   ],
   "source": [
    "no_of_drivers = dt1[dt1.Is_ASAP == True].groupby(['order_placed_time_of_day'])['Driver_ID'].nunique().reset_index().rename(columns= {'Driver_ID' : 'unique_drivers'})\n",
    "order_placed_time_of_day = dt1[dt1.Is_ASAP == True].groupby(['order_placed_time_of_day'])['Consumer_ID'].count().reset_index().rename(columns= {'Consumer_ID' : 'total_orders'})\n",
    "avg_delivery_time = dt1[dt1.Is_ASAP == True].groupby(['order_placed_time_of_day'])['total_delivery_time'].mean()\n",
    "\n",
    "order_placed_time_of_day = order_placed_time_of_day.merge(no_of_drivers, on= 'order_placed_time_of_day')\n",
    "order_placed_time_of_day['no_of_orders_per_driver'] = order_placed_time_of_day['total_orders']/no_of_orders['unique_drivers']\n",
    "order_placed_time_of_day = order_placed_time_of_day.merge(avg_delivery_time, on= 'order_placed_time_of_day')\n",
    "\n",
    "order_placed_time_of_day\n",
    "\n"
   ]
  },
  {
   "cell_type": "code",
   "execution_count": 109,
   "metadata": {},
   "outputs": [
    {
     "data": {
      "text/html": [
       "<div>\n",
       "<style scoped>\n",
       "    .dataframe tbody tr th:only-of-type {\n",
       "        vertical-align: middle;\n",
       "    }\n",
       "\n",
       "    .dataframe tbody tr th {\n",
       "        vertical-align: top;\n",
       "    }\n",
       "\n",
       "    .dataframe thead th {\n",
       "        text-align: right;\n",
       "    }\n",
       "</style>\n",
       "<table border=\"1\" class=\"dataframe\">\n",
       "  <thead>\n",
       "    <tr style=\"text-align: right;\">\n",
       "      <th></th>\n",
       "      <th>delivery_time_bucket</th>\n",
       "      <th>total_orders</th>\n",
       "      <th>unique_drivers</th>\n",
       "      <th>no_of_orders_per_driver</th>\n",
       "      <th>total_delivery_time</th>\n",
       "    </tr>\n",
       "  </thead>\n",
       "  <tbody>\n",
       "    <tr>\n",
       "      <th>0</th>\n",
       "      <td>1. 0 to 30</td>\n",
       "      <td>1734</td>\n",
       "      <td>229</td>\n",
       "      <td>7.572052</td>\n",
       "      <td>26.014629</td>\n",
       "    </tr>\n",
       "    <tr>\n",
       "      <th>1</th>\n",
       "      <td>2. 30 to 45</td>\n",
       "      <td>5921</td>\n",
       "      <td>281</td>\n",
       "      <td>21.071174</td>\n",
       "      <td>37.689199</td>\n",
       "    </tr>\n",
       "    <tr>\n",
       "      <th>2</th>\n",
       "      <td>3. 45 to 60</td>\n",
       "      <td>4240</td>\n",
       "      <td>280</td>\n",
       "      <td>15.142857</td>\n",
       "      <td>51.717869</td>\n",
       "    </tr>\n",
       "    <tr>\n",
       "      <th>3</th>\n",
       "      <td>4. More than 60</td>\n",
       "      <td>2540</td>\n",
       "      <td>257</td>\n",
       "      <td>9.883268</td>\n",
       "      <td>74.520827</td>\n",
       "    </tr>\n",
       "  </tbody>\n",
       "</table>\n",
       "</div>"
      ],
      "text/plain": [
       "  delivery_time_bucket  total_orders  unique_drivers  no_of_orders_per_driver  \\\n",
       "0           1. 0 to 30          1734             229                 7.572052   \n",
       "1          2. 30 to 45          5921             281                21.071174   \n",
       "2          3. 45 to 60          4240             280                15.142857   \n",
       "3      4. More than 60          2540             257                 9.883268   \n",
       "\n",
       "   total_delivery_time  \n",
       "0            26.014629  \n",
       "1            37.689199  \n",
       "2            51.717869  \n",
       "3            74.520827  "
      ]
     },
     "execution_count": 109,
     "metadata": {},
     "output_type": "execute_result"
    }
   ],
   "source": [
    "no_of_drivers = dt1[dt1.Is_ASAP == True].groupby(['delivery_time_bucket'])['Driver_ID'].nunique().reset_index().rename(columns= {'Driver_ID' : 'unique_drivers'})\n",
    "delivery_time_bucket = dt1[dt1.Is_ASAP == True].groupby(['delivery_time_bucket'])['Consumer_ID'].count().reset_index().rename(columns= {'Consumer_ID' : 'total_orders'})\n",
    "avg_delivery_time = dt1[dt1.Is_ASAP == True].groupby(['delivery_time_bucket'])['total_delivery_time'].mean().reset_index()\n",
    "\n",
    "delivery_time_bucket = delivery_time_bucket.merge(no_of_drivers, on= 'delivery_time_bucket')\n",
    "delivery_time_bucket['no_of_orders_per_driver'] = delivery_time_bucket['total_orders']/no_of_orders['unique_drivers']\n",
    "delivery_time_bucket = delivery_time_bucket.merge(avg_delivery_time, on= 'delivery_time_bucket')\n",
    "\n",
    "delivery_time_bucket\n",
    "\n"
   ]
  },
  {
   "cell_type": "code",
   "execution_count": 111,
   "metadata": {},
   "outputs": [
    {
     "data": {
      "text/plain": [
       "delivery_time_bucket  Restaurant_ID\n",
       "1. 0 to 30            12               0.063537\n",
       "                      20               0.044648\n",
       "                      9                0.038924\n",
       "                      10               0.030910\n",
       "                      8                0.030338\n",
       "                                         ...   \n",
       "4. More than 60       392              0.000177\n",
       "                      393              0.000177\n",
       "                      397              0.000177\n",
       "                      400              0.000177\n",
       "                      401              0.000177\n",
       "Name: Restaurant_ID, Length: 1055, dtype: float64"
      ]
     },
     "execution_count": 111,
     "metadata": {},
     "output_type": "execute_result"
    }
   ],
   "source": [
    "dt1.groupby('delivery_time_bucket')['Restaurant_ID'].value_counts(True)"
   ]
  },
  {
   "cell_type": "code",
   "execution_count": 112,
   "metadata": {},
   "outputs": [
    {
     "data": {
      "text/plain": [
       "Delivery_Region\n",
       "Mountain View     52.072439\n",
       "None             224.363846\n",
       "Palo Alto         52.482654\n",
       "San Jose          43.737433\n",
       "Name: Order_total, dtype: float64"
      ]
     },
     "execution_count": 112,
     "metadata": {},
     "output_type": "execute_result"
    }
   ],
   "source": [
    "dt1.groupby(['Delivery_Region'])['Order_total'].mean()"
   ]
  },
  {
   "cell_type": "code",
   "execution_count": 113,
   "metadata": {},
   "outputs": [
    {
     "data": {
      "text/plain": [
       "Palo Alto        0.632426\n",
       "Mountain View    0.207988\n",
       "San Jose         0.158148\n",
       "None             0.001438\n",
       "Name: Delivery_Region, dtype: float64"
      ]
     },
     "execution_count": 113,
     "metadata": {},
     "output_type": "execute_result"
    }
   ],
   "source": [
    "dt1.Delivery_Region.value_counts(True)"
   ]
  }
 ],
 "metadata": {
  "kernelspec": {
   "display_name": "Python 3 (ipykernel)",
   "language": "python",
   "name": "python3"
  },
  "language_info": {
   "codemirror_mode": {
    "name": "ipython",
    "version": 3
   },
   "file_extension": ".py",
   "mimetype": "text/x-python",
   "name": "python",
   "nbconvert_exporter": "python",
   "pygments_lexer": "ipython3",
   "version": "3.9.7"
  }
 },
 "nbformat": 4,
 "nbformat_minor": 4
}
